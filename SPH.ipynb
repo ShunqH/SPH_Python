{
 "cells": [
  {
   "cell_type": "code",
   "execution_count": 1,
   "id": "b6d692d1",
   "metadata": {},
   "outputs": [],
   "source": [
    "import numpy as np\n",
    "from scipy.spatial import KDTree\n",
    "import matplotlib.pyplot as plt"
   ]
  },
  {
   "cell_type": "code",
   "execution_count": 2,
   "id": "fbd52c2e",
   "metadata": {},
   "outputs": [],
   "source": [
    "#index\n",
    "X1 = 0      # position x1\n",
    "VEL1 = 1    # velocity in x1 direction \n",
    "MAS = 2     # mass \n",
    "LEN = 3     # smoothing length\n",
    "DEN = 4     # density\n",
    "ENE = 5     # internal energy (u) \n",
    "PRE = 6     # pressure \n",
    "SPE = 7     # sound speed\n",
    "\n",
    "def setup(n, xmin, xmax, rho0, cs, nghost = 0):   # new setup that can include ghost particles.\n",
    "    particles = np.zeros((n+2*nghost, 8))\n",
    "    dx = (xmax - xmin)/n\n",
    "    m0 = rho0*dx\n",
    "    for i in range(nghost, n+nghost):\n",
    "        particles[i, X1] = xmin + 0.5*dx + i*dx\n",
    "        particles[i, MAS] = m0 \n",
    "        particles[i, VEL1] = 1e-4*cs*np.sin(4.*np.pi*particles[i, X1])\n",
    "        particles[i, LEN] = 1.2*dx\n",
    "    return particles\n",
    "\n",
    "def set_ghosts(particles, nghost, L):\n",
    "    for i in range(nghost):\n",
    "        particles[i] = particles[-2*nghost+i]\n",
    "        particles[i, X1] = particles[i, X1] - L\n",
    "        particles[-nghost+i] = particles[nghost+i]\n",
    "        particles[-nghost+i, X1] = particles[-nghost+i, X1] + L\n",
    "    return particles\n",
    "\n",
    "def F_kernel(q): \n",
    "    if q>=0 and q<1:\n",
    "        return 1-1.5*q**2+0.75*q**3\n",
    "    if q>=1 and q<2:\n",
    "        return 0.25*(2-q)**3\n",
    "    if q>=2:\n",
    "        return 0\n",
    "\n",
    "def F_kernel_p(q): \n",
    "    if q>=0 and q<1:\n",
    "        return -3.*q + 3*0.75*q**2\n",
    "    if q>=1 and q<2:\n",
    "        return 0.75*(2-q)**2*(-1)\n",
    "    if q>=2:\n",
    "        return 0\n",
    "    \n",
    "def W_1order(dist, h):\n",
    "    q = dist/h\n",
    "    C = 2./3.\n",
    "    return C*F_kernel(q)/h**1\n",
    "\n",
    "def W_1order_p(ra, rb, h):\n",
    "    q = abs(ra-rb)/h\n",
    "    C = 2./3.\n",
    "    rhat = (rb-ra)/abs(ra-rb)\n",
    "    return rhat*C*F_kernel_p(q)/h**2\n",
    "\n",
    "def get_density(particles):\n",
    "    n = len(particles)\n",
    "    for i in range(n):\n",
    "        particles[i, DEN] = 0\n",
    "        for j in range(n):\n",
    "            particles[i, DEN] += particles[j, MAS]*W_1order(abs(particles[i,X1]-particles[j,X1]), particles[i,LEN])\n",
    "    return particles\n",
    "\n",
    "def eos_iso(rho, cs = 0.1):\n",
    "    p = cs**2*rho\n",
    "    return p"
   ]
  },
  {
   "cell_type": "code",
   "execution_count": 3,
   "id": "0d4a3f74",
   "metadata": {},
   "outputs": [
    {
     "name": "stdout",
     "output_type": "stream",
     "text": [
      "100\n"
     ]
    },
    {
     "data": {
      "image/png": "[encoded data removed]",
      "text/plain": [
       "<Figure size 640x480 with 1 Axes>"
      ]
     },
     "metadata": {},
     "output_type": "display_data"
    }
   ],
   "source": [
    "n = 100\n",
    "xmin = 0\n",
    "xmax = 1.\n",
    "L = xmax - xmin\n",
    "rho0 = 1.0\n",
    "cs = 0.1\n",
    "nghost = 4\n",
    "particles = setup(n, xmin, xmax, rho0, cs, nghost)\n",
    "particles = set_ghosts(particles, nghost, L)\n",
    "\n",
    "particles = get_density(particles)\n",
    "act_par = particles[nghost:-nghost]\n",
    "plt.plot(act_par[:, X1], act_par[:, DEN])\n",
    "plt.ylim(0,2)\n",
    "plt.show()"
   ]
  },
  {
   "cell_type": "code",
   "execution_count": null,
   "id": "ef7a5ac4",
   "metadata": {},
   "outputs": [],
   "source": []
  }
 ],
 "metadata": {
  "kernelspec": {
   "display_name": "Python 3 (ipykernel)",
   "language": "python",
   "name": "python3"
  },
  "language_info": {
   "codemirror_mode": {
    "name": "ipython",
    "version": 3
   },
   "file_extension": ".py",
   "mimetype": "text/x-python",
   "name": "python",
   "nbconvert_exporter": "python",
   "pygments_lexer": "ipython3",
   "version": "3.11.5"
  }
 },
 "nbformat": 4,
 "nbformat_minor": 5
}
