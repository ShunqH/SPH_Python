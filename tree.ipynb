{
 "cells": [
  {
   "cell_type": "code",
   "execution_count": 5,
   "metadata": {},
   "outputs": [],
   "source": [
    "import numpy as np\n",
    "from scipy.spatial import KDTree\n",
    "import matplotlib.pyplot as plt"
   ]
  },
  {
   "cell_type": "code",
   "execution_count": 34,
   "metadata": {},
   "outputs": [],
   "source": [
    "# 创建一个包含 10 个三维点的数组\n",
    "points = np.random.random((10, 4))\n",
    "\n",
    "# 构建 kd-tree\n",
    "tree = KDTree(points[:,:2])\n",
    "\n",
    "# 查询最近邻点\n",
    "query_point = np.array([0.5, 0.5])\n",
    "dist, ind = tree.query(query_point)\n",
    "close_points = tree.query_ball_point((0.5,0.5), 0.3)\n",
    "# print(close_points)\n",
    "# print(\"closest point：\", points[ind])\n",
    "# print(\"distant：\", dist)"
   ]
  },
  {
   "cell_type": "code",
   "execution_count": 38,
   "metadata": {},
   "outputs": [],
   "source": [
    "def Integrate(function_list, x1, x2):\n",
    "    n = len(function_list)\n",
    "    if n%2 == 0:\n",
    "        print(\"error: n is not odd.\")\n",
    "        return 0\n",
    "    integ = function_list[0] + function_list[-1]\n",
    "    for k in range(1,n-1):\n",
    "        if k%2 == 0:\n",
    "            integ = integ + 2*function_list[k]\n",
    "        else:\n",
    "            integ = integ + 4*function_list[k]\n",
    "    integ = integ*((x2-x1)/(3*(n-1)))\n",
    "    return integ"
   ]
  },
  {
   "cell_type": "code",
   "execution_count": 37,
   "metadata": {},
   "outputs": [
    {
     "data": {
      "image/png": "[encoded data removed]",
      "text/plain": [
       "<Figure size 432x432 with 1 Axes>"
      ]
     },
     "metadata": {
      "needs_background": "light"
     },
     "output_type": "display_data"
    }
   ],
   "source": [
    "theta = np.linspace(0, 2*np.pi, 100)\n",
    "r = 0.3\n",
    "xcir = r*np.cos(theta) + 0.5\n",
    "ycir = r*np.sin(theta) + 0.5\n",
    "\n",
    "plt.figure(figsize=(6,6))\n",
    "plt.plot(xcir,ycir)\n",
    "plt.scatter(points[:,0], points[:,1], s = 1.0)\n",
    "plt.scatter(points[close_points,0], points[close_points,1], s = 1.0)\n",
    "# plt.xlim(0,1)\n",
    "# plt.ylim(0,1)\n",
    "plt.show()"
   ]
  },
  {
   "cell_type": "code",
   "execution_count": 97,
   "metadata": {},
   "outputs": [
    {
     "name": "stdout",
     "output_type": "stream",
     "text": [
      "1.0\n",
      "[0.99801729]\n"
     ]
    }
   ],
   "source": []
  },
  {
   "cell_type": "code",
   "execution_count": 65,
   "metadata": {},
   "outputs": [
    {
     "name": "stdout",
     "output_type": "stream",
     "text": [
      "1.0\n"
     ]
    }
   ],
   "source": [
    "a = [3]\n",
    "b = [4]\n",
    "print(np.sqrt((a[0]-b[0])**2))"
   ]
  },
  {
   "cell_type": "code",
   "execution_count": 69,
   "metadata": {},
   "outputs": [
    {
     "data": {
      "text/plain": [
       "0.3183098861837907"
      ]
     },
     "execution_count": 69,
     "metadata": {},
     "output_type": "execute_result"
    }
   ],
   "source": [
    "1./np.pi"
   ]
  },
  {
   "cell_type": "code",
   "execution_count": null,
   "metadata": {},
   "outputs": [],
   "source": []
  }
 ],
 "metadata": {
  "kernelspec": {
   "display_name": "Python 3",
   "language": "python",
   "name": "python3"
  },
  "language_info": {
   "codemirror_mode": {
    "name": "ipython",
    "version": 3
   },
   "file_extension": ".py",
   "mimetype": "text/x-python",
   "name": "python",
   "nbconvert_exporter": "python",
   "pygments_lexer": "ipython3",
   "version": "3.8.3"
  }
 },
 "nbformat": 4,
 "nbformat_minor": 4
}
